{
  "nbformat": 4,
  "nbformat_minor": 0,
  "metadata": {
    "colab": {
      "provenance": []
    },
    "kernelspec": {
      "name": "python3",
      "display_name": "Python 3"
    },
    "language_info": {
      "name": "python"
    },
    "gpuClass": "standard"
  },
  "cells": [
    {
      "cell_type": "markdown",
      "source": [
        "# **Getting Started**"
      ],
      "metadata": {
        "id": "TanwzOXcTMbq"
      }
    },
    {
      "cell_type": "code",
      "source": [],
      "metadata": {
        "id": "dxSgJWwvFLSM"
      },
      "execution_count": null,
      "outputs": []
    },
    {
      "cell_type": "code",
      "source": [
        "import json\n",
        "# make a new file bot.json\n",
        "{\n",
        "    \"intents\":[\n",
        "    {\n",
        "        \"tag\": \"greetings\",\n",
        "        \"patterns\": [\n",
        "         \"Hello\",\n",
        "         \"Hi\",\n",
        "         \"How are you\",\n",
        "         \"Good morning\",\n",
        "         \"Top of the morning\",\n",
        "         \"Can I get some help?\"\n",
        "        ],\n",
        "        \"responses\":[\n",
        "        \"Hello! Thanks for visting\",\n",
        "        \"Hi there, how can I help?\",\n",
        "        \"Nice to meet you, how can I help you?\",\n",
        "        \"Good to see you again\"\n",
        "\n",
        "        ]\n",
        "\n",
        "    },\n",
        "\n",
        "        {\"tag\":\"goodbyes\",\n",
        "        \"patterns\":[\n",
        "            \"Thanks for the help\",\n",
        "            \"Goodbye!\",\n",
        "            \"I'm leaving\",\n",
        "            \"See you later!\",\n",
        "            \"Have a good day!\"]\n",
        "            ,\n",
        "            \"responses\":[\n",
        "                \"Take care!\",\n",
        "                \"Thanks for shopping at @franco\",\n",
        "                \"Hope I helped.\",\n",
        "                \"Glad I was able to help \"\n",
        "\n",
        "            ]\n",
        "        },\n",
        "        {\n",
        "            \"tag\":\"shop\",\n",
        "            \"patterns\":[\"What products do you sell?\",\n",
        "                \"I like to buy something\",\n",
        "                \"Is there any special deals?\",\n",
        "                \"What do you recommend\"],\n",
        "\n",
        "                \"responses\":[\n",
        "               \"We sell coffee, books, and provide free WIFI\",\n",
        "                \"Buy one product and get fiffty percent off your next purchase\"\n",
        "                ,\n",
        "                \"we recommend buying a book alongside a coffee\",\n",
        "                \"\"\n",
        "\n",
        "            ]\n",
        "            },\n",
        "            {\n",
        "            \"tag\":\"payments\",\n",
        "            \"patterns\":[\n",
        "                \"What form of payment do you accept?\",\n",
        "                \"Do you take credit card?\", \"Do you accept cash\"\n",
        "            ],\n",
        "            \"responses\":[\n",
        "                \"We take cash\",\n",
        "                \"We take master card as well\",\n",
        "                \"We accept VISA, Mastercard, and AMEX\",\n",
        "                \"We accept most major credit cards\"\n",
        "            ]\n",
        "\n",
        "\n",
        "\n",
        "            },\n",
        "            {\n",
        "                \"tag\": \"hours\",\n",
        "                \"patterns\":[\n",
        "                \"What hours are you open \",\n",
        "                \"What are the hours of operations\",\n",
        "                \"What is the best time to order stuff\"\n",
        "                ],\n",
        "                \"responses\":[\n",
        "                   \"We are open nine to five\",\n",
        "                   \"Our hours are 9 AM to 5 PM\",\n",
        "                   \"The best time would be from the ours of operations\"\n",
        "                ]\n",
        "\n",
        "            }\n",
        "\n",
        "\n",
        "\n",
        "\n",
        "\n",
        "\n",
        "\n",
        "\n",
        "\n",
        "\n",
        "\n",
        "\n",
        "\n",
        "\n",
        "\n",
        "\n",
        "    ]\n",
        "\n",
        "}\n"
      ],
      "metadata": {
        "id": "gGs7FoJInqAq",
        "colab": {
          "base_uri": "https://localhost:8080/"
        },
        "outputId": "43dc0413-d6a8-4a05-ed7e-eb8732d5942a"
      },
      "execution_count": null,
      "outputs": [
        {
          "output_type": "execute_result",
          "data": {
            "text/plain": [
              "{'intents': [{'tag': 'greetings',\n",
              "   'patterns': ['Hello',\n",
              "    'Hi',\n",
              "    'How are you',\n",
              "    'Good morning',\n",
              "    'Top of the morning',\n",
              "    'Can I get some help?'],\n",
              "   'responses': ['Hello! Thanks for visting',\n",
              "    'Hi there, how can I help?',\n",
              "    'Nice to meet you, how can I help you?',\n",
              "    'Good to see you again']},\n",
              "  {'tag': 'goodbyes',\n",
              "   'patterns': ['Thanks for the help',\n",
              "    'Goodbye!',\n",
              "    \"I'm leaving\",\n",
              "    'See you later!',\n",
              "    'Have a good day!'],\n",
              "   'responses': ['Take care!',\n",
              "    'Thanks for shopping at @franco',\n",
              "    'Hope I helped.',\n",
              "    'Glad I was able to help ']},\n",
              "  {'tag': 'shop',\n",
              "   'patterns': ['What products do you sell?',\n",
              "    'I like to buy something',\n",
              "    'Is there any special deals?',\n",
              "    'What do you recommend'],\n",
              "   'responses': ['We sell coffee, books, and provide free WIFI',\n",
              "    'Buy one product and get fiffty percent off your next purchase',\n",
              "    'we recommend buying a book alongside a coffee',\n",
              "    '']},\n",
              "  {'tag': 'payments',\n",
              "   'patterns': ['What form of payment do you accept?',\n",
              "    'Do you take credit card?',\n",
              "    'Do you accept cash'],\n",
              "   'responses': ['We take cash',\n",
              "    'We take master card as well',\n",
              "    'We accept VISA, Mastercard, and AMEX',\n",
              "    'We accept most major credit cards']},\n",
              "  {'tag': 'hours',\n",
              "   'patterns': ['What hours are you open ',\n",
              "    'What are the hours of operations',\n",
              "    'What is the best time to order stuff'],\n",
              "   'responses': ['We are open nine to five',\n",
              "    'Our hours are 9 AM to 5 PM',\n",
              "    'The best time would be from the ours of operations']}]}"
            ]
          },
          "metadata": {},
          "execution_count": 27
        }
      ]
    },
    {
      "cell_type": "markdown",
      "source": [
        "**Uninstalling** **Tensorflow** **for educational Purposes**"
      ],
      "metadata": {
        "id": "QmvRBEQjbO01"
      }
    },
    {
      "cell_type": "code",
      "source": [
        "!pip uninstall tensorflow\n",
        "# it will ask if you want to procced, in which you should say yea"
      ],
      "metadata": {
        "colab": {
          "base_uri": "https://localhost:8080/"
        },
        "id": "zzVnTAApbMch",
        "outputId": "41a883bc-a938-4138-fb52-c2f8a9fa75ad"
      },
      "execution_count": null,
      "outputs": [
        {
          "metadata": {
            "tags": null
          },
          "name": "stdout",
          "output_type": "stream",
          "text": [
            "Found existing installation: tensorflow 2.7.0\n",
            "Uninstalling tensorflow-2.7.0:\n",
            "  Would remove:\n",
            "    /usr/local/bin/estimator_ckpt_converter\n",
            "    /usr/local/bin/import_pb_to_tensorboard\n",
            "    /usr/local/bin/saved_model_cli\n",
            "    /usr/local/bin/tensorboard\n",
            "    /usr/local/bin/tf_upgrade_v2\n",
            "    /usr/local/bin/tflite_convert\n",
            "    /usr/local/bin/toco\n",
            "    /usr/local/bin/toco_from_protos\n",
            "    /usr/local/lib/python3.7/dist-packages/tensorflow-2.7.0.dist-info/*\n",
            "    /usr/local/lib/python3.7/dist-packages/tensorflow/*\n",
            "Proceed (y/n)? "
          ]
        }
      ]
    },
    {
      "cell_type": "markdown",
      "source": [
        "***Installing the right tensorflow***"
      ],
      "metadata": {
        "id": "fERRTjmXcCI_"
      }
    },
    {
      "cell_type": "code",
      "source": [
        "#https://stackoverflow.com/questions/71316443/google-colab-error-import-tensorflow-keras-models-could-not-be-resolvedrepor\n",
        "!pip install tensorflow==2.7.0."
      ],
      "metadata": {
        "colab": {
          "base_uri": "https://localhost:8080/"
        },
        "id": "KXdgV7f1chD3",
        "outputId": "6257b0d5-d3d9-448e-f798-af0202a9470c"
      },
      "execution_count": null,
      "outputs": [
        {
          "output_type": "stream",
          "name": "stdout",
          "text": [
            "Looking in indexes: https://pypi.org/simple, https://us-python.pkg.dev/colab-wheels/public/simple/\n",
            "Collecting tensorflow==2.7.0.\n",
            "  Downloading tensorflow-2.7.0-cp37-cp37m-manylinux2010_x86_64.whl (489.6 MB)\n",
            "\u001b[K     |████████████████████████████████| 489.6 MB 24 kB/s \n",
            "\u001b[?25hRequirement already satisfied: tensorboard~=2.6 in /usr/local/lib/python3.7/dist-packages (from tensorflow==2.7.0.) (2.9.1)\n",
            "Requirement already satisfied: wheel<1.0,>=0.32.0 in /usr/local/lib/python3.7/dist-packages (from tensorflow==2.7.0.) (0.38.3)\n",
            "Requirement already satisfied: typing-extensions>=3.6.6 in /usr/local/lib/python3.7/dist-packages (from tensorflow==2.7.0.) (4.1.1)\n",
            "Requirement already satisfied: six>=1.12.0 in /usr/local/lib/python3.7/dist-packages (from tensorflow==2.7.0.) (1.15.0)\n",
            "Requirement already satisfied: tensorflow-io-gcs-filesystem>=0.21.0 in /usr/local/lib/python3.7/dist-packages (from tensorflow==2.7.0.) (0.27.0)\n",
            "Requirement already satisfied: protobuf>=3.9.2 in /usr/local/lib/python3.7/dist-packages (from tensorflow==2.7.0.) (3.19.6)\n",
            "Requirement already satisfied: libclang>=9.0.1 in /usr/local/lib/python3.7/dist-packages (from tensorflow==2.7.0.) (14.0.6)\n",
            "Requirement already satisfied: h5py>=2.9.0 in /usr/local/lib/python3.7/dist-packages (from tensorflow==2.7.0.) (3.1.0)\n",
            "Requirement already satisfied: opt-einsum>=2.3.2 in /usr/local/lib/python3.7/dist-packages (from tensorflow==2.7.0.) (3.3.0)\n",
            "Requirement already satisfied: gast<0.5.0,>=0.2.1 in /usr/local/lib/python3.7/dist-packages (from tensorflow==2.7.0.) (0.4.0)\n",
            "Collecting tensorflow-estimator<2.8,~=2.7.0rc0\n",
            "  Downloading tensorflow_estimator-2.7.0-py2.py3-none-any.whl (463 kB)\n",
            "\u001b[K     |████████████████████████████████| 463 kB 46.3 MB/s \n",
            "\u001b[?25hRequirement already satisfied: numpy>=1.14.5 in /usr/local/lib/python3.7/dist-packages (from tensorflow==2.7.0.) (1.21.6)\n",
            "Requirement already satisfied: absl-py>=0.4.0 in /usr/local/lib/python3.7/dist-packages (from tensorflow==2.7.0.) (1.3.0)\n",
            "Requirement already satisfied: termcolor>=1.1.0 in /usr/local/lib/python3.7/dist-packages (from tensorflow==2.7.0.) (2.1.0)\n",
            "Requirement already satisfied: google-pasta>=0.1.1 in /usr/local/lib/python3.7/dist-packages (from tensorflow==2.7.0.) (0.2.0)\n",
            "Requirement already satisfied: flatbuffers<3.0,>=1.12 in /usr/local/lib/python3.7/dist-packages (from tensorflow==2.7.0.) (1.12)\n",
            "Requirement already satisfied: keras-preprocessing>=1.1.1 in /usr/local/lib/python3.7/dist-packages (from tensorflow==2.7.0.) (1.1.2)\n",
            "Collecting keras<2.8,>=2.7.0rc0\n",
            "  Downloading keras-2.7.0-py2.py3-none-any.whl (1.3 MB)\n",
            "\u001b[K     |████████████████████████████████| 1.3 MB 60.0 MB/s \n",
            "\u001b[?25hRequirement already satisfied: grpcio<2.0,>=1.24.3 in /usr/local/lib/python3.7/dist-packages (from tensorflow==2.7.0.) (1.50.0)\n",
            "Requirement already satisfied: wrapt>=1.11.0 in /usr/local/lib/python3.7/dist-packages (from tensorflow==2.7.0.) (1.14.1)\n",
            "Requirement already satisfied: astunparse>=1.6.0 in /usr/local/lib/python3.7/dist-packages (from tensorflow==2.7.0.) (1.6.3)\n",
            "Requirement already satisfied: cached-property in /usr/local/lib/python3.7/dist-packages (from h5py>=2.9.0->tensorflow==2.7.0.) (1.5.2)\n",
            "Requirement already satisfied: tensorboard-plugin-wit>=1.6.0 in /usr/local/lib/python3.7/dist-packages (from tensorboard~=2.6->tensorflow==2.7.0.) (1.8.1)\n",
            "Requirement already satisfied: requests<3,>=2.21.0 in /usr/local/lib/python3.7/dist-packages (from tensorboard~=2.6->tensorflow==2.7.0.) (2.23.0)\n",
            "Requirement already satisfied: google-auth-oauthlib<0.5,>=0.4.1 in /usr/local/lib/python3.7/dist-packages (from tensorboard~=2.6->tensorflow==2.7.0.) (0.4.6)\n",
            "Requirement already satisfied: tensorboard-data-server<0.7.0,>=0.6.0 in /usr/local/lib/python3.7/dist-packages (from tensorboard~=2.6->tensorflow==2.7.0.) (0.6.1)\n",
            "Requirement already satisfied: setuptools>=41.0.0 in /usr/local/lib/python3.7/dist-packages (from tensorboard~=2.6->tensorflow==2.7.0.) (57.4.0)\n",
            "Requirement already satisfied: markdown>=2.6.8 in /usr/local/lib/python3.7/dist-packages (from tensorboard~=2.6->tensorflow==2.7.0.) (3.4.1)\n",
            "Requirement already satisfied: google-auth<3,>=1.6.3 in /usr/local/lib/python3.7/dist-packages (from tensorboard~=2.6->tensorflow==2.7.0.) (2.14.1)\n",
            "Requirement already satisfied: werkzeug>=1.0.1 in /usr/local/lib/python3.7/dist-packages (from tensorboard~=2.6->tensorflow==2.7.0.) (1.0.1)\n",
            "Requirement already satisfied: cachetools<6.0,>=2.0.0 in /usr/local/lib/python3.7/dist-packages (from google-auth<3,>=1.6.3->tensorboard~=2.6->tensorflow==2.7.0.) (5.2.0)\n",
            "Requirement already satisfied: rsa<5,>=3.1.4 in /usr/local/lib/python3.7/dist-packages (from google-auth<3,>=1.6.3->tensorboard~=2.6->tensorflow==2.7.0.) (4.9)\n",
            "Requirement already satisfied: pyasn1-modules>=0.2.1 in /usr/local/lib/python3.7/dist-packages (from google-auth<3,>=1.6.3->tensorboard~=2.6->tensorflow==2.7.0.) (0.2.8)\n",
            "Requirement already satisfied: requests-oauthlib>=0.7.0 in /usr/local/lib/python3.7/dist-packages (from google-auth-oauthlib<0.5,>=0.4.1->tensorboard~=2.6->tensorflow==2.7.0.) (1.3.1)\n",
            "Requirement already satisfied: importlib-metadata>=4.4 in /usr/local/lib/python3.7/dist-packages (from markdown>=2.6.8->tensorboard~=2.6->tensorflow==2.7.0.) (4.13.0)\n",
            "Requirement already satisfied: zipp>=0.5 in /usr/local/lib/python3.7/dist-packages (from importlib-metadata>=4.4->markdown>=2.6.8->tensorboard~=2.6->tensorflow==2.7.0.) (3.10.0)\n",
            "Requirement already satisfied: pyasn1<0.5.0,>=0.4.6 in /usr/local/lib/python3.7/dist-packages (from pyasn1-modules>=0.2.1->google-auth<3,>=1.6.3->tensorboard~=2.6->tensorflow==2.7.0.) (0.4.8)\n",
            "Requirement already satisfied: urllib3!=1.25.0,!=1.25.1,<1.26,>=1.21.1 in /usr/local/lib/python3.7/dist-packages (from requests<3,>=2.21.0->tensorboard~=2.6->tensorflow==2.7.0.) (1.24.3)\n",
            "Requirement already satisfied: chardet<4,>=3.0.2 in /usr/local/lib/python3.7/dist-packages (from requests<3,>=2.21.0->tensorboard~=2.6->tensorflow==2.7.0.) (3.0.4)\n",
            "Requirement already satisfied: certifi>=2017.4.17 in /usr/local/lib/python3.7/dist-packages (from requests<3,>=2.21.0->tensorboard~=2.6->tensorflow==2.7.0.) (2022.9.24)\n",
            "Requirement already satisfied: idna<3,>=2.5 in /usr/local/lib/python3.7/dist-packages (from requests<3,>=2.21.0->tensorboard~=2.6->tensorflow==2.7.0.) (2.10)\n",
            "Requirement already satisfied: oauthlib>=3.0.0 in /usr/local/lib/python3.7/dist-packages (from requests-oauthlib>=0.7.0->google-auth-oauthlib<0.5,>=0.4.1->tensorboard~=2.6->tensorflow==2.7.0.) (3.2.2)\n",
            "Installing collected packages: tensorflow-estimator, keras, tensorflow\n",
            "  Attempting uninstall: tensorflow-estimator\n",
            "    Found existing installation: tensorflow-estimator 2.9.0\n",
            "    Uninstalling tensorflow-estimator-2.9.0:\n",
            "      Successfully uninstalled tensorflow-estimator-2.9.0\n",
            "  Attempting uninstall: keras\n",
            "    Found existing installation: keras 2.9.0\n",
            "    Uninstalling keras-2.9.0:\n",
            "      Successfully uninstalled keras-2.9.0\n",
            "  Attempting uninstall: tensorflow\n",
            "    Found existing installation: tensorflow 2.9.2\n",
            "    Uninstalling tensorflow-2.9.2:\n",
            "      Successfully uninstalled tensorflow-2.9.2\n",
            "Successfully installed keras-2.7.0 tensorflow-2.7.0 tensorflow-estimator-2.7.0\n"
          ]
        }
      ]
    },
    {
      "cell_type": "code",
      "source": [],
      "metadata": {
        "id": "qEut53febaCi"
      },
      "execution_count": null,
      "outputs": []
    },
    {
      "cell_type": "markdown",
      "source": [
        "# Importing all the libaries\n",
        "\n",
        "\n",
        "> Would recomend that you use google collab for gpu purposes\n",
        "\n"
      ],
      "metadata": {
        "id": "nWDtGBBOi53a"
      }
    },
    {
      "cell_type": "code",
      "source": [
        "import tensorflow as tf\n",
        "from tensorflow.keras.layers import Dense,Activation, Dropout\n",
        "from tensorflow.keras.optimizers import SGD\n",
        "from tensorflow.keras.models import Sequential\n",
        "import pickle\n"
      ],
      "metadata": {
        "id": "eEx2z-cBxCAT"
      },
      "execution_count": null,
      "outputs": []
    },
    {
      "cell_type": "code",
      "source": [
        "\n",
        "import nltk # this is used for the toolkit fo\n",
        "nltk.download('punkt') # make sure to download this part for the tokenzaton part\n",
        "nltk.download('all') # use this for the lementazier for all the nlkt downloads\n",
        "#import nltk\n",
        "#nltk.download('all')\n",
        "from nltk.stem import WordNetLemmatizer\n",
        "from tensorflow import keras\n",
        "import random\n",
        "import numpy as np\n",
        "lementizer = WordNetLemmatizer()\n",
        "\n"
      ],
      "metadata": {
        "id": "xhHBtc2PnqD0",
        "colab": {
          "base_uri": "https://localhost:8080/"
        },
        "outputId": "0416264d-ecdc-4e28-a6ec-176b96b0d6a5"
      },
      "execution_count": null,
      "outputs": [
        {
          "output_type": "stream",
          "name": "stderr",
          "text": [
            "[nltk_data] Downloading package punkt to /root/nltk_data...\n",
            "[nltk_data]   Unzipping tokenizers/punkt.zip.\n",
            "[nltk_data] Downloading collection 'all'\n",
            "[nltk_data]    | \n",
            "[nltk_data]    | Downloading package abc to /root/nltk_data...\n",
            "[nltk_data]    |   Unzipping corpora/abc.zip.\n",
            "[nltk_data]    | Downloading package alpino to /root/nltk_data...\n",
            "[nltk_data]    |   Unzipping corpora/alpino.zip.\n",
            "[nltk_data]    | Downloading package averaged_perceptron_tagger to\n",
            "[nltk_data]    |     /root/nltk_data...\n",
            "[nltk_data]    |   Unzipping taggers/averaged_perceptron_tagger.zip.\n",
            "[nltk_data]    | Downloading package averaged_perceptron_tagger_ru to\n",
            "[nltk_data]    |     /root/nltk_data...\n",
            "[nltk_data]    |   Unzipping\n",
            "[nltk_data]    |       taggers/averaged_perceptron_tagger_ru.zip.\n",
            "[nltk_data]    | Downloading package basque_grammars to\n",
            "[nltk_data]    |     /root/nltk_data...\n",
            "[nltk_data]    |   Unzipping grammars/basque_grammars.zip.\n",
            "[nltk_data]    | Downloading package biocreative_ppi to\n",
            "[nltk_data]    |     /root/nltk_data...\n",
            "[nltk_data]    |   Unzipping corpora/biocreative_ppi.zip.\n",
            "[nltk_data]    | Downloading package bllip_wsj_no_aux to\n",
            "[nltk_data]    |     /root/nltk_data...\n",
            "[nltk_data]    |   Unzipping models/bllip_wsj_no_aux.zip.\n",
            "[nltk_data]    | Downloading package book_grammars to\n",
            "[nltk_data]    |     /root/nltk_data...\n",
            "[nltk_data]    |   Unzipping grammars/book_grammars.zip.\n",
            "[nltk_data]    | Downloading package brown to /root/nltk_data...\n",
            "[nltk_data]    |   Unzipping corpora/brown.zip.\n",
            "[nltk_data]    | Downloading package brown_tei to /root/nltk_data...\n",
            "[nltk_data]    |   Unzipping corpora/brown_tei.zip.\n",
            "[nltk_data]    | Downloading package cess_cat to /root/nltk_data...\n",
            "[nltk_data]    |   Unzipping corpora/cess_cat.zip.\n",
            "[nltk_data]    | Downloading package cess_esp to /root/nltk_data...\n",
            "[nltk_data]    |   Unzipping corpora/cess_esp.zip.\n",
            "[nltk_data]    | Downloading package chat80 to /root/nltk_data...\n",
            "[nltk_data]    |   Unzipping corpora/chat80.zip.\n",
            "[nltk_data]    | Downloading package city_database to\n",
            "[nltk_data]    |     /root/nltk_data...\n",
            "[nltk_data]    |   Unzipping corpora/city_database.zip.\n",
            "[nltk_data]    | Downloading package cmudict to /root/nltk_data...\n",
            "[nltk_data]    |   Unzipping corpora/cmudict.zip.\n",
            "[nltk_data]    | Downloading package comparative_sentences to\n",
            "[nltk_data]    |     /root/nltk_data...\n",
            "[nltk_data]    |   Unzipping corpora/comparative_sentences.zip.\n",
            "[nltk_data]    | Downloading package comtrans to /root/nltk_data...\n",
            "[nltk_data]    | Downloading package conll2000 to /root/nltk_data...\n",
            "[nltk_data]    |   Unzipping corpora/conll2000.zip.\n",
            "[nltk_data]    | Downloading package conll2002 to /root/nltk_data...\n",
            "[nltk_data]    |   Unzipping corpora/conll2002.zip.\n",
            "[nltk_data]    | Downloading package conll2007 to /root/nltk_data...\n",
            "[nltk_data]    | Downloading package crubadan to /root/nltk_data...\n",
            "[nltk_data]    |   Unzipping corpora/crubadan.zip.\n",
            "[nltk_data]    | Downloading package dependency_treebank to\n",
            "[nltk_data]    |     /root/nltk_data...\n",
            "[nltk_data]    |   Unzipping corpora/dependency_treebank.zip.\n",
            "[nltk_data]    | Downloading package dolch to /root/nltk_data...\n",
            "[nltk_data]    |   Unzipping corpora/dolch.zip.\n",
            "[nltk_data]    | Downloading package europarl_raw to\n",
            "[nltk_data]    |     /root/nltk_data...\n",
            "[nltk_data]    |   Unzipping corpora/europarl_raw.zip.\n",
            "[nltk_data]    | Downloading package extended_omw to\n",
            "[nltk_data]    |     /root/nltk_data...\n",
            "[nltk_data]    | Downloading package floresta to /root/nltk_data...\n",
            "[nltk_data]    |   Unzipping corpora/floresta.zip.\n",
            "[nltk_data]    | Downloading package framenet_v15 to\n",
            "[nltk_data]    |     /root/nltk_data...\n",
            "[nltk_data]    |   Unzipping corpora/framenet_v15.zip.\n",
            "[nltk_data]    | Downloading package framenet_v17 to\n",
            "[nltk_data]    |     /root/nltk_data...\n",
            "[nltk_data]    |   Unzipping corpora/framenet_v17.zip.\n",
            "[nltk_data]    | Downloading package gazetteers to /root/nltk_data...\n",
            "[nltk_data]    |   Unzipping corpora/gazetteers.zip.\n",
            "[nltk_data]    | Downloading package genesis to /root/nltk_data...\n",
            "[nltk_data]    |   Unzipping corpora/genesis.zip.\n",
            "[nltk_data]    | Downloading package gutenberg to /root/nltk_data...\n",
            "[nltk_data]    |   Unzipping corpora/gutenberg.zip.\n",
            "[nltk_data]    | Downloading package ieer to /root/nltk_data...\n",
            "[nltk_data]    |   Unzipping corpora/ieer.zip.\n",
            "[nltk_data]    | Downloading package inaugural to /root/nltk_data...\n",
            "[nltk_data]    |   Unzipping corpora/inaugural.zip.\n",
            "[nltk_data]    | Downloading package indian to /root/nltk_data...\n",
            "[nltk_data]    |   Unzipping corpora/indian.zip.\n",
            "[nltk_data]    | Downloading package jeita to /root/nltk_data...\n",
            "[nltk_data]    | Downloading package kimmo to /root/nltk_data...\n",
            "[nltk_data]    |   Unzipping corpora/kimmo.zip.\n",
            "[nltk_data]    | Downloading package knbc to /root/nltk_data...\n",
            "[nltk_data]    | Downloading package large_grammars to\n",
            "[nltk_data]    |     /root/nltk_data...\n",
            "[nltk_data]    |   Unzipping grammars/large_grammars.zip.\n",
            "[nltk_data]    | Downloading package lin_thesaurus to\n",
            "[nltk_data]    |     /root/nltk_data...\n",
            "[nltk_data]    |   Unzipping corpora/lin_thesaurus.zip.\n",
            "[nltk_data]    | Downloading package mac_morpho to /root/nltk_data...\n",
            "[nltk_data]    |   Unzipping corpora/mac_morpho.zip.\n",
            "[nltk_data]    | Downloading package machado to /root/nltk_data...\n",
            "[nltk_data]    | Downloading package masc_tagged to /root/nltk_data...\n",
            "[nltk_data]    | Downloading package maxent_ne_chunker to\n",
            "[nltk_data]    |     /root/nltk_data...\n",
            "[nltk_data]    |   Unzipping chunkers/maxent_ne_chunker.zip.\n",
            "[nltk_data]    | Downloading package maxent_treebank_pos_tagger to\n",
            "[nltk_data]    |     /root/nltk_data...\n",
            "[nltk_data]    |   Unzipping taggers/maxent_treebank_pos_tagger.zip.\n",
            "[nltk_data]    | Downloading package moses_sample to\n",
            "[nltk_data]    |     /root/nltk_data...\n",
            "[nltk_data]    |   Unzipping models/moses_sample.zip.\n",
            "[nltk_data]    | Downloading package movie_reviews to\n",
            "[nltk_data]    |     /root/nltk_data...\n",
            "[nltk_data]    |   Unzipping corpora/movie_reviews.zip.\n",
            "[nltk_data]    | Downloading package mte_teip5 to /root/nltk_data...\n",
            "[nltk_data]    |   Unzipping corpora/mte_teip5.zip.\n",
            "[nltk_data]    | Downloading package mwa_ppdb to /root/nltk_data...\n",
            "[nltk_data]    |   Unzipping misc/mwa_ppdb.zip.\n",
            "[nltk_data]    | Downloading package names to /root/nltk_data...\n",
            "[nltk_data]    |   Unzipping corpora/names.zip.\n",
            "[nltk_data]    | Downloading package nombank.1.0 to /root/nltk_data...\n",
            "[nltk_data]    | Downloading package nonbreaking_prefixes to\n",
            "[nltk_data]    |     /root/nltk_data...\n",
            "[nltk_data]    |   Unzipping corpora/nonbreaking_prefixes.zip.\n",
            "[nltk_data]    | Downloading package nps_chat to /root/nltk_data...\n",
            "[nltk_data]    |   Unzipping corpora/nps_chat.zip.\n",
            "[nltk_data]    | Downloading package omw to /root/nltk_data...\n",
            "[nltk_data]    | Downloading package omw-1.4 to /root/nltk_data...\n",
            "[nltk_data]    | Downloading package opinion_lexicon to\n",
            "[nltk_data]    |     /root/nltk_data...\n",
            "[nltk_data]    |   Unzipping corpora/opinion_lexicon.zip.\n",
            "[nltk_data]    | Downloading package panlex_swadesh to\n",
            "[nltk_data]    |     /root/nltk_data...\n",
            "[nltk_data]    | Downloading package paradigms to /root/nltk_data...\n",
            "[nltk_data]    |   Unzipping corpora/paradigms.zip.\n",
            "[nltk_data]    | Downloading package pe08 to /root/nltk_data...\n",
            "[nltk_data]    |   Unzipping corpora/pe08.zip.\n",
            "[nltk_data]    | Downloading package perluniprops to\n",
            "[nltk_data]    |     /root/nltk_data...\n",
            "[nltk_data]    |   Unzipping misc/perluniprops.zip.\n",
            "[nltk_data]    | Downloading package pil to /root/nltk_data...\n",
            "[nltk_data]    |   Unzipping corpora/pil.zip.\n",
            "[nltk_data]    | Downloading package pl196x to /root/nltk_data...\n",
            "[nltk_data]    |   Unzipping corpora/pl196x.zip.\n",
            "[nltk_data]    | Downloading package porter_test to /root/nltk_data...\n",
            "[nltk_data]    |   Unzipping stemmers/porter_test.zip.\n",
            "[nltk_data]    | Downloading package ppattach to /root/nltk_data...\n",
            "[nltk_data]    |   Unzipping corpora/ppattach.zip.\n",
            "[nltk_data]    | Downloading package problem_reports to\n",
            "[nltk_data]    |     /root/nltk_data...\n",
            "[nltk_data]    |   Unzipping corpora/problem_reports.zip.\n",
            "[nltk_data]    | Downloading package product_reviews_1 to\n",
            "[nltk_data]    |     /root/nltk_data...\n",
            "[nltk_data]    |   Unzipping corpora/product_reviews_1.zip.\n",
            "[nltk_data]    | Downloading package product_reviews_2 to\n",
            "[nltk_data]    |     /root/nltk_data...\n",
            "[nltk_data]    |   Unzipping corpora/product_reviews_2.zip.\n",
            "[nltk_data]    | Downloading package propbank to /root/nltk_data...\n",
            "[nltk_data]    | Downloading package pros_cons to /root/nltk_data...\n",
            "[nltk_data]    |   Unzipping corpora/pros_cons.zip.\n",
            "[nltk_data]    | Downloading package ptb to /root/nltk_data...\n",
            "[nltk_data]    |   Unzipping corpora/ptb.zip.\n",
            "[nltk_data]    | Downloading package punkt to /root/nltk_data...\n",
            "[nltk_data]    |   Package punkt is already up-to-date!\n",
            "[nltk_data]    | Downloading package qc to /root/nltk_data...\n",
            "[nltk_data]    |   Unzipping corpora/qc.zip.\n",
            "[nltk_data]    | Downloading package reuters to /root/nltk_data...\n",
            "[nltk_data]    | Downloading package rslp to /root/nltk_data...\n",
            "[nltk_data]    |   Unzipping stemmers/rslp.zip.\n",
            "[nltk_data]    | Downloading package rte to /root/nltk_data...\n",
            "[nltk_data]    |   Unzipping corpora/rte.zip.\n",
            "[nltk_data]    | Downloading package sample_grammars to\n",
            "[nltk_data]    |     /root/nltk_data...\n",
            "[nltk_data]    |   Unzipping grammars/sample_grammars.zip.\n",
            "[nltk_data]    | Downloading package semcor to /root/nltk_data...\n",
            "[nltk_data]    | Downloading package senseval to /root/nltk_data...\n",
            "[nltk_data]    |   Unzipping corpora/senseval.zip.\n",
            "[nltk_data]    | Downloading package sentence_polarity to\n",
            "[nltk_data]    |     /root/nltk_data...\n",
            "[nltk_data]    |   Unzipping corpora/sentence_polarity.zip.\n",
            "[nltk_data]    | Downloading package sentiwordnet to\n",
            "[nltk_data]    |     /root/nltk_data...\n",
            "[nltk_data]    |   Unzipping corpora/sentiwordnet.zip.\n",
            "[nltk_data]    | Downloading package shakespeare to /root/nltk_data...\n",
            "[nltk_data]    |   Unzipping corpora/shakespeare.zip.\n",
            "[nltk_data]    | Downloading package sinica_treebank to\n",
            "[nltk_data]    |     /root/nltk_data...\n",
            "[nltk_data]    |   Unzipping corpora/sinica_treebank.zip.\n",
            "[nltk_data]    | Downloading package smultron to /root/nltk_data...\n",
            "[nltk_data]    |   Unzipping corpora/smultron.zip.\n",
            "[nltk_data]    | Downloading package snowball_data to\n",
            "[nltk_data]    |     /root/nltk_data...\n",
            "[nltk_data]    | Downloading package spanish_grammars to\n",
            "[nltk_data]    |     /root/nltk_data...\n",
            "[nltk_data]    |   Unzipping grammars/spanish_grammars.zip.\n",
            "[nltk_data]    | Downloading package state_union to /root/nltk_data...\n",
            "[nltk_data]    |   Unzipping corpora/state_union.zip.\n",
            "[nltk_data]    | Downloading package stopwords to /root/nltk_data...\n",
            "[nltk_data]    |   Unzipping corpora/stopwords.zip.\n",
            "[nltk_data]    | Downloading package subjectivity to\n",
            "[nltk_data]    |     /root/nltk_data...\n",
            "[nltk_data]    |   Unzipping corpora/subjectivity.zip.\n",
            "[nltk_data]    | Downloading package swadesh to /root/nltk_data...\n",
            "[nltk_data]    |   Unzipping corpora/swadesh.zip.\n",
            "[nltk_data]    | Downloading package switchboard to /root/nltk_data...\n",
            "[nltk_data]    |   Unzipping corpora/switchboard.zip.\n",
            "[nltk_data]    | Downloading package tagsets to /root/nltk_data...\n",
            "[nltk_data]    |   Unzipping help/tagsets.zip.\n",
            "[nltk_data]    | Downloading package timit to /root/nltk_data...\n",
            "[nltk_data]    |   Unzipping corpora/timit.zip.\n",
            "[nltk_data]    | Downloading package toolbox to /root/nltk_data...\n",
            "[nltk_data]    |   Unzipping corpora/toolbox.zip.\n",
            "[nltk_data]    | Downloading package treebank to /root/nltk_data...\n",
            "[nltk_data]    |   Unzipping corpora/treebank.zip.\n",
            "[nltk_data]    | Downloading package twitter_samples to\n",
            "[nltk_data]    |     /root/nltk_data...\n",
            "[nltk_data]    |   Unzipping corpora/twitter_samples.zip.\n",
            "[nltk_data]    | Downloading package udhr to /root/nltk_data...\n",
            "[nltk_data]    |   Unzipping corpora/udhr.zip.\n",
            "[nltk_data]    | Downloading package udhr2 to /root/nltk_data...\n",
            "[nltk_data]    |   Unzipping corpora/udhr2.zip.\n",
            "[nltk_data]    | Downloading package unicode_samples to\n",
            "[nltk_data]    |     /root/nltk_data...\n",
            "[nltk_data]    |   Unzipping corpora/unicode_samples.zip.\n",
            "[nltk_data]    | Downloading package universal_tagset to\n",
            "[nltk_data]    |     /root/nltk_data...\n",
            "[nltk_data]    |   Unzipping taggers/universal_tagset.zip.\n",
            "[nltk_data]    | Downloading package universal_treebanks_v20 to\n",
            "[nltk_data]    |     /root/nltk_data...\n",
            "[nltk_data]    | Downloading package vader_lexicon to\n",
            "[nltk_data]    |     /root/nltk_data...\n",
            "[nltk_data]    | Downloading package verbnet to /root/nltk_data...\n",
            "[nltk_data]    |   Unzipping corpora/verbnet.zip.\n",
            "[nltk_data]    | Downloading package verbnet3 to /root/nltk_data...\n",
            "[nltk_data]    |   Unzipping corpora/verbnet3.zip.\n",
            "[nltk_data]    | Downloading package webtext to /root/nltk_data...\n",
            "[nltk_data]    |   Unzipping corpora/webtext.zip.\n",
            "[nltk_data]    | Downloading package wmt15_eval to /root/nltk_data...\n",
            "[nltk_data]    |   Unzipping models/wmt15_eval.zip.\n",
            "[nltk_data]    | Downloading package word2vec_sample to\n",
            "[nltk_data]    |     /root/nltk_data...\n",
            "[nltk_data]    |   Unzipping models/word2vec_sample.zip.\n",
            "[nltk_data]    | Downloading package wordnet to /root/nltk_data...\n",
            "[nltk_data]    | Downloading package wordnet2021 to /root/nltk_data...\n",
            "[nltk_data]    | Downloading package wordnet31 to /root/nltk_data...\n",
            "[nltk_data]    | Downloading package wordnet_ic to /root/nltk_data...\n",
            "[nltk_data]    |   Unzipping corpora/wordnet_ic.zip.\n",
            "[nltk_data]    | Downloading package words to /root/nltk_data...\n",
            "[nltk_data]    |   Unzipping corpora/words.zip.\n",
            "[nltk_data]    | Downloading package ycoe to /root/nltk_data...\n",
            "[nltk_data]    |   Unzipping corpora/ycoe.zip.\n",
            "[nltk_data]    | \n",
            "[nltk_data]  Done downloading collection all\n"
          ]
        }
      ]
    },
    {
      "cell_type": "markdown",
      "source": [
        "***Reading the Json file***"
      ],
      "metadata": {
        "id": "k2bldb9lngHb"
      }
    },
    {
      "cell_type": "code",
      "source": [
        "import json\n",
        "intents =json.loads(open(\"practicebot-2.json\").read())\n",
        "\n",
        "# if the one above does not work\n",
        "#with open(\"practicebot.json\") as json_data:\n",
        " #      intents = json.load(json_data)\n",
        "\n",
        "with open('ai.json')as json_data:\n",
        "  intents = json.load(json_data)"
      ],
      "metadata": {
        "id": "rAEguKvvUNc0"
      },
      "execution_count": null,
      "outputs": []
    },
    {
      "cell_type": "code",
      "source": [
        "# tp check if the json file did work\n",
        "print(intents)"
      ],
      "metadata": {
        "colab": {
          "base_uri": "https://localhost:8080/"
        },
        "id": "kHBVnaTQY4PN",
        "outputId": "06b4a4fc-e541-4293-cf56-dc1cc0deca16"
      },
      "execution_count": null,
      "outputs": [
        {
          "output_type": "stream",
          "name": "stdout",
          "text": [
            "{'intents': [{'tag': 'greetings', 'patterns': ['Hello', 'Hi', 'How are you', 'Good morning', 'Top of the morning', 'Can I get some help?'], 'responses': [\"Hello! I'm a Missa Bot\", 'Hi there, how can I the Missa Bot help?', 'Nice to meet you, how can I help you?', 'I Missa bot said hello']}, {'tag': 'goodbyes', 'patterns': ['Thanks for the help', 'Goodbye!', \"I'm leaving\", 'See you later!', 'Have a good day!'], 'responses': ['Take care!', 'Thanks for shopping at @Missa', 'Hope I helped.', 'Glad I was able to help ']}, {'tag': 'shop', 'patterns': ['What products do you sell?', 'I want to buy something', 'Is there any special deals?', 'What do you recommend'], 'responses': ['Here at MISSA shop we sell coffee, books, and provide free WIFI', 'Buy one product and get fiffty percent off your next purchase', 'Use MISSA at checkout to get fiffy percent off', '']}, {'tag': 'payments', 'patterns': ['What form of payment do you accept?', 'Do you take credit card?', 'Do you accept cash'], 'responses': ['We take cash', 'We take master card as well', 'We accept VISA, Mastercard, and AMEX', 'We accept most major credit cards']}, {'tag': 'hours', 'patterns': ['What hours are you open ', 'What are the hours of operations', 'What is the best time to order stuff'], 'responses': ['We are open nine to five', 'Our hours are 9 AM to 5 PM', 'The best time would be from the ours of operations']}, {'tag': 'reviews', 'patterns': ['I want to leave a review', 'I will give MISSA a five out of five'], 'responses': ['Thanks for leaving a review at MISSA', 'If possible, tell us how we can improve here at MISSA']}]}\n"
          ]
        }
      ]
    },
    {
      "cell_type": "markdown",
      "source": [
        "# Setting up the json file"
      ],
      "metadata": {
        "id": "-tIYvxXnbKba"
      }
    },
    {
      "cell_type": "code",
      "source": [
        "#When reffering to json files we use a key:vale pair assesment"
      ],
      "metadata": {
        "id": "XvQk7221NNft"
      },
      "execution_count": null,
      "outputs": []
    },
    {
      "cell_type": "code",
      "source": [
        "\n",
        "# making empty list to make your\n",
        "words = []\n",
        "classes = []\n",
        "documents = []\n",
        "ignore_words = [\"?\",\"!\",\",\",\"@\"] # anything that is not found on intents\n",
        "# really check on the json file\n",
        "for intent in intents[\"intents\"]:\n",
        "    for pattern in intent['patterns']:\n",
        "        new_char = nltk.word_tokenize(pattern)\n",
        "        words.extend(new_char)\n",
        "        # now add the other lists\n",
        "        documents.append((new_char, intent['tag']))\n",
        "        if intent['tag'] not in classes:\n",
        "            classes.append(intent['tag'])\n",
        "print(documents)\n",
        "print(new_char)\n",
        "# keep the tag consisted because if the json file says tags then u will get a key error\n"
      ],
      "metadata": {
        "id": "rZzsG1lwi3j6",
        "colab": {
          "base_uri": "https://localhost:8080/"
        },
        "outputId": "080df34e-6adb-4a34-bd5f-f088fefc0bb2"
      },
      "execution_count": null,
      "outputs": [
        {
          "output_type": "stream",
          "name": "stdout",
          "text": [
            "[(['Hello'], 'greetings'), (['Hi'], 'greetings'), (['How', 'are', 'you'], 'greetings'), (['Good', 'morning'], 'greetings'), (['Top', 'of', 'the', 'morning'], 'greetings'), (['Can', 'I', 'get', 'some', 'help', '?'], 'greetings'), (['Thanks', 'for', 'the', 'help'], 'goodbyes'), (['Goodbye', '!'], 'goodbyes'), (['I', \"'m\", 'leaving'], 'goodbyes'), (['See', 'you', 'later', '!'], 'goodbyes'), (['Have', 'a', 'good', 'day', '!'], 'goodbyes'), (['What', 'products', 'do', 'you', 'sell', '?'], 'shop'), (['I', 'want', 'to', 'buy', 'something'], 'shop'), (['Is', 'there', 'any', 'special', 'deals', '?'], 'shop'), (['What', 'do', 'you', 'recommend'], 'shop'), (['What', 'form', 'of', 'payment', 'do', 'you', 'accept', '?'], 'payments'), (['Do', 'you', 'take', 'credit', 'card', '?'], 'payments'), (['Do', 'you', 'accept', 'cash'], 'payments'), (['What', 'hours', 'are', 'you', 'open'], 'hours'), (['What', 'are', 'the', 'hours', 'of', 'operations'], 'hours'), (['What', 'is', 'the', 'best', 'time', 'to', 'order', 'stuff'], 'hours'), (['I', 'want', 'to', 'leave', 'a', 'review'], 'reviews'), (['I', 'will', 'give', 'MISSA', 'a', 'five', 'out', 'of', 'five'], 'reviews')]\n",
            "['I', 'will', 'give', 'MISSA', 'a', 'five', 'out', 'of', 'five']\n"
          ]
        }
      ]
    },
    {
      "cell_type": "markdown",
      "source": [
        "**Setting the Data Up and removing duplicates**"
      ],
      "metadata": {
        "id": "4AlY4XJog7Ym"
      }
    },
    {
      "cell_type": "code",
      "source": [
        "new_words = [lementizer.lemmatize(word) for word in words if word not in ignore_words]\n",
        "new_words = sorted( set(new_words))  # the sorted will make the words into a list, and set removes duplicate\n",
        "print(new_words)"
      ],
      "metadata": {
        "colab": {
          "base_uri": "https://localhost:8080/"
        },
        "id": "qiBoLqgpg617",
        "outputId": "a5b94259-ec4e-44cb-c3b9-d849e3df67a4"
      },
      "execution_count": null,
      "outputs": [
        {
          "output_type": "stream",
          "name": "stdout",
          "text": [
            "[\"'m\", 'Can', 'Do', 'Good', 'Goodbye', 'Have', 'Hello', 'Hi', 'How', 'I', 'Is', 'MISSA', 'See', 'Thanks', 'Top', 'What', 'a', 'accept', 'any', 'are', 'best', 'buy', 'card', 'cash', 'credit', 'day', 'deal', 'do', 'five', 'for', 'form', 'get', 'give', 'good', 'help', 'hour', 'is', 'later', 'leave', 'leaving', 'morning', 'of', 'open', 'operation', 'order', 'out', 'payment', 'product', 'recommend', 'review', 'sell', 'some', 'something', 'special', 'stuff', 'take', 'the', 'there', 'time', 'to', 'want', 'will', 'you']\n"
          ]
        }
      ]
    },
    {
      "cell_type": "code",
      "source": [
        "classses = sorted(set(classes))\n",
        "print(classes)"
      ],
      "metadata": {
        "colab": {
          "base_uri": "https://localhost:8080/"
        },
        "id": "51VpH-tt1T8L",
        "outputId": "75265408-3ff5-4b53-a5ec-4f03da5d5aea"
      },
      "execution_count": null,
      "outputs": [
        {
          "output_type": "stream",
          "name": "stdout",
          "text": [
            "['greetings', 'goodbyes', 'shop', 'payments', 'hours', 'reviews']\n"
          ]
        }
      ]
    },
    {
      "cell_type": "markdown",
      "source": [
        "**Removing the Unwanted** **words**"
      ],
      "metadata": {
        "id": "EFy4cgCynUhm"
      }
    },
    {
      "cell_type": "code",
      "source": [
        "pickle.dump(words, open('words.pkl', 'wb'))\n",
        "pickle.dump(classes, open('classes.pkl','wb'))"
      ],
      "metadata": {
        "id": "d_oOMHXlD8ky"
      },
      "execution_count": null,
      "outputs": []
    },
    {
      "cell_type": "markdown",
      "source": [
        "**Preprocessing the Nerual network**"
      ],
      "metadata": {
        "id": "K7OXaWVREArj"
      }
    },
    {
      "cell_type": "code",
      "source": [
        "training = []\n",
        "output_empty = [0] * len(classes) # states how 0 there are in classes\n",
        "for doucment in documents:\n",
        "  bag = []  # the bag of words\n",
        "  pattern_words = doucment[0]\n",
        "  # tokenzing each word into binary\n",
        "  pattern_words = [lementizer.lemmatize(word.lower()) for word in pattern_words]\n",
        "  for word in words:\n",
        "    bag.append(1)if word in pattern_words else bag.append(0)\n",
        "  # output for 0 is used for each tag and 1 is used for the current tag\n",
        "  output_row = list(output_empty)\n",
        "  output_row[classes.index(doucment[1])] = 1\n",
        "  training.append([bag,output_row ])\n",
        "# time to randomize all of our numbers\n",
        "random.shuffle(training)\n",
        "training = np.array(training)\n",
        "\n",
        "# create train and test lists\n",
        "# if it gives you an warning, you can ignore it because it just google colab restrictions\n",
        "\n",
        "train_x = list(training[: ,0])\n",
        "train_y = list(training[: ,1])"
      ],
      "metadata": {
        "colab": {
          "base_uri": "https://localhost:8080/"
        },
        "id": "AfwHLJwnUrNj",
        "outputId": "d1267ba2-e1d3-4678-d2b3-0db0978edf15"
      },
      "execution_count": null,
      "outputs": [
        {
          "output_type": "stream",
          "name": "stderr",
          "text": [
            "/usr/local/lib/python3.7/dist-packages/ipykernel_launcher.py:16: VisibleDeprecationWarning: Creating an ndarray from ragged nested sequences (which is a list-or-tuple of lists-or-tuples-or ndarrays with different lengths or shapes) is deprecated. If you meant to do this, you must specify 'dtype=object' when creating the ndarray.\n",
            "  app.launch_new_instance()\n"
          ]
        }
      ]
    },
    {
      "cell_type": "markdown",
      "source": [
        "\"rember nerual networks can't take strings so make it to numbers"
      ],
      "metadata": {
        "id": "9JHMg9EO949a"
      }
    },
    {
      "cell_type": "markdown",
      "source": [
        "**The Neural Network Theory**"
      ],
      "metadata": {
        "id": "oniaBPMIGQUd"
      }
    },
    {
      "cell_type": "markdown",
      "source": [
        "SGD = the optimizer used for each layer"
      ],
      "metadata": {
        "id": "n5PVzZjmMvlK"
      }
    },
    {
      "cell_type": "code",
      "source": [
        "model = Sequential()\n",
        "model.add(Dense(128, input_shape =(len(train_x[0]),), activation ='relu'))\n",
        "model.add(Dropout(0.5))\n",
        "model.add(Dense(64, activation = 'relu'))\n",
        "model.add(Dropout(0.5))\n",
        "model.add(Dense(len(train_y[0]), activation = 'softmax'))\n"
      ],
      "metadata": {
        "id": "A0EHwspXGPpf"
      },
      "execution_count": null,
      "outputs": []
    },
    {
      "cell_type": "code",
      "source": [
        "sgd = SGD(lr= 00.1, decay = 1e-6, momentum=0.9, nesterov = True)\n",
        "model.compile(loss = 'categorical_crossentropy', optimizer=sgd, metrics = ['accuracy'])\n",
        "mlai = model.fit(np.array(train_x), np.array(train_y),epochs  =200, batch_size=5, verbose= 1)\n",
        "model.save('chatbot_model.h5',mlai)\n",
        "print(\"chatbot is ready\")"
      ],
      "metadata": {
        "id": "Ecsf2SJ8azBu",
        "colab": {
          "base_uri": "https://localhost:8080/"
        },
        "outputId": "ec32bc5f-e193-4c41-b941-b96bad85934f"
      },
      "execution_count": null,
      "outputs": [
        {
          "output_type": "stream",
          "name": "stderr",
          "text": [
            "/usr/local/lib/python3.7/dist-packages/keras/optimizer_v2/gradient_descent.py:102: UserWarning: The `lr` argument is deprecated, use `learning_rate` instead.\n",
            "  super(SGD, self).__init__(name, **kwargs)\n"
          ]
        },
        {
          "output_type": "stream",
          "name": "stdout",
          "text": [
            "Epoch 1/200\n",
            "5/5 [==============================] - 1s 3ms/step - loss: 1.8229 - accuracy: 0.1304\n",
            "Epoch 2/200\n",
            "5/5 [==============================] - 0s 6ms/step - loss: 2.2448 - accuracy: 0.3043\n",
            "Epoch 3/200\n",
            "5/5 [==============================] - 0s 3ms/step - loss: 3.1659 - accuracy: 0.4783\n",
            "Epoch 4/200\n",
            "5/5 [==============================] - 0s 5ms/step - loss: 2.6596 - accuracy: 0.4348\n",
            "Epoch 5/200\n",
            "5/5 [==============================] - 0s 3ms/step - loss: 3.5556 - accuracy: 0.3913\n",
            "Epoch 6/200\n",
            "5/5 [==============================] - 0s 3ms/step - loss: 1.9246 - accuracy: 0.4783\n",
            "Epoch 7/200\n",
            "5/5 [==============================] - 0s 3ms/step - loss: 11.1718 - accuracy: 0.3478\n",
            "Epoch 8/200\n",
            "5/5 [==============================] - 0s 3ms/step - loss: 70.0425 - accuracy: 0.2174\n",
            "Epoch 9/200\n",
            "5/5 [==============================] - 0s 3ms/step - loss: 379.0596 - accuracy: 0.3478\n",
            "Epoch 10/200\n",
            "5/5 [==============================] - 0s 3ms/step - loss: 30461.8477 - accuracy: 0.2174\n",
            "Epoch 11/200\n",
            "5/5 [==============================] - 0s 3ms/step - loss: 95474866454528.0000 - accuracy: 0.0870\n",
            "Epoch 12/200\n",
            "5/5 [==============================] - 0s 5ms/step - loss: nan - accuracy: 0.2609               \n",
            "Epoch 13/200\n",
            "5/5 [==============================] - 0s 3ms/step - loss: nan - accuracy: 0.2609\n",
            "Epoch 14/200\n",
            "5/5 [==============================] - 0s 4ms/step - loss: nan - accuracy: 0.2609\n",
            "Epoch 15/200\n",
            "5/5 [==============================] - 0s 4ms/step - loss: nan - accuracy: 0.2609\n",
            "Epoch 16/200\n",
            "5/5 [==============================] - 0s 3ms/step - loss: nan - accuracy: 0.2609\n",
            "Epoch 17/200\n",
            "5/5 [==============================] - 0s 3ms/step - loss: nan - accuracy: 0.2609\n",
            "Epoch 18/200\n",
            "5/5 [==============================] - 0s 4ms/step - loss: nan - accuracy: 0.2609\n",
            "Epoch 19/200\n",
            "5/5 [==============================] - 0s 3ms/step - loss: nan - accuracy: 0.2609\n",
            "Epoch 20/200\n",
            "5/5 [==============================] - 0s 3ms/step - loss: nan - accuracy: 0.2609\n",
            "Epoch 21/200\n",
            "5/5 [==============================] - 0s 3ms/step - loss: nan - accuracy: 0.2609\n",
            "Epoch 22/200\n",
            "5/5 [==============================] - 0s 3ms/step - loss: nan - accuracy: 0.2609\n",
            "Epoch 23/200\n",
            "5/5 [==============================] - 0s 3ms/step - loss: nan - accuracy: 0.2609\n",
            "Epoch 24/200\n",
            "5/5 [==============================] - 0s 4ms/step - loss: nan - accuracy: 0.2609\n",
            "Epoch 25/200\n",
            "5/5 [==============================] - 0s 3ms/step - loss: nan - accuracy: 0.2609\n",
            "Epoch 26/200\n",
            "5/5 [==============================] - 0s 3ms/step - loss: nan - accuracy: 0.2609\n",
            "Epoch 27/200\n",
            "5/5 [==============================] - 0s 3ms/step - loss: nan - accuracy: 0.2609\n",
            "Epoch 28/200\n",
            "5/5 [==============================] - 0s 3ms/step - loss: nan - accuracy: 0.2609\n",
            "Epoch 29/200\n",
            "5/5 [==============================] - 0s 3ms/step - loss: nan - accuracy: 0.2609\n",
            "Epoch 30/200\n",
            "5/5 [==============================] - 0s 4ms/step - loss: nan - accuracy: 0.2609\n",
            "Epoch 31/200\n",
            "5/5 [==============================] - 0s 3ms/step - loss: nan - accuracy: 0.2609\n",
            "Epoch 32/200\n",
            "5/5 [==============================] - 0s 3ms/step - loss: nan - accuracy: 0.2609\n",
            "Epoch 33/200\n",
            "5/5 [==============================] - 0s 3ms/step - loss: nan - accuracy: 0.2609\n",
            "Epoch 34/200\n",
            "5/5 [==============================] - 0s 3ms/step - loss: nan - accuracy: 0.2609\n",
            "Epoch 35/200\n",
            "5/5 [==============================] - 0s 4ms/step - loss: nan - accuracy: 0.2609\n",
            "Epoch 36/200\n",
            "5/5 [==============================] - 0s 3ms/step - loss: nan - accuracy: 0.2609\n",
            "Epoch 37/200\n",
            "5/5 [==============================] - 0s 4ms/step - loss: nan - accuracy: 0.2609\n",
            "Epoch 38/200\n",
            "5/5 [==============================] - 0s 3ms/step - loss: nan - accuracy: 0.2609\n",
            "Epoch 39/200\n",
            "5/5 [==============================] - 0s 3ms/step - loss: nan - accuracy: 0.2609\n",
            "Epoch 40/200\n",
            "5/5 [==============================] - 0s 5ms/step - loss: nan - accuracy: 0.2609\n",
            "Epoch 41/200\n",
            "5/5 [==============================] - 0s 3ms/step - loss: nan - accuracy: 0.2609\n",
            "Epoch 42/200\n",
            "5/5 [==============================] - 0s 3ms/step - loss: nan - accuracy: 0.2609\n",
            "Epoch 43/200\n",
            "5/5 [==============================] - 0s 3ms/step - loss: nan - accuracy: 0.2609\n",
            "Epoch 44/200\n",
            "5/5 [==============================] - 0s 5ms/step - loss: nan - accuracy: 0.2609\n",
            "Epoch 45/200\n",
            "5/5 [==============================] - 0s 3ms/step - loss: nan - accuracy: 0.2609\n",
            "Epoch 46/200\n",
            "5/5 [==============================] - 0s 3ms/step - loss: nan - accuracy: 0.2609\n",
            "Epoch 47/200\n",
            "5/5 [==============================] - 0s 4ms/step - loss: nan - accuracy: 0.2609\n",
            "Epoch 48/200\n",
            "5/5 [==============================] - 0s 3ms/step - loss: nan - accuracy: 0.2609\n",
            "Epoch 49/200\n",
            "5/5 [==============================] - 0s 4ms/step - loss: nan - accuracy: 0.2609\n",
            "Epoch 50/200\n",
            "5/5 [==============================] - 0s 3ms/step - loss: nan - accuracy: 0.2609\n",
            "Epoch 51/200\n",
            "5/5 [==============================] - 0s 3ms/step - loss: nan - accuracy: 0.2609\n",
            "Epoch 52/200\n",
            "5/5 [==============================] - 0s 3ms/step - loss: nan - accuracy: 0.2609\n",
            "Epoch 53/200\n",
            "5/5 [==============================] - 0s 3ms/step - loss: nan - accuracy: 0.2609\n",
            "Epoch 54/200\n",
            "5/5 [==============================] - 0s 3ms/step - loss: nan - accuracy: 0.2609\n",
            "Epoch 55/200\n",
            "5/5 [==============================] - 0s 3ms/step - loss: nan - accuracy: 0.2609\n",
            "Epoch 56/200\n",
            "5/5 [==============================] - 0s 3ms/step - loss: nan - accuracy: 0.2609\n",
            "Epoch 57/200\n",
            "5/5 [==============================] - 0s 3ms/step - loss: nan - accuracy: 0.2609\n",
            "Epoch 58/200\n",
            "5/5 [==============================] - 0s 3ms/step - loss: nan - accuracy: 0.2609\n",
            "Epoch 59/200\n",
            "5/5 [==============================] - 0s 3ms/step - loss: nan - accuracy: 0.2609\n",
            "Epoch 60/200\n",
            "5/5 [==============================] - 0s 3ms/step - loss: nan - accuracy: 0.2609\n",
            "Epoch 61/200\n",
            "5/5 [==============================] - 0s 3ms/step - loss: nan - accuracy: 0.2609\n",
            "Epoch 62/200\n",
            "5/5 [==============================] - 0s 3ms/step - loss: nan - accuracy: 0.2609\n",
            "Epoch 63/200\n",
            "5/5 [==============================] - 0s 3ms/step - loss: nan - accuracy: 0.2609\n",
            "Epoch 64/200\n",
            "5/5 [==============================] - 0s 5ms/step - loss: nan - accuracy: 0.2609\n",
            "Epoch 65/200\n",
            "5/5 [==============================] - 0s 5ms/step - loss: nan - accuracy: 0.2609\n",
            "Epoch 66/200\n",
            "5/5 [==============================] - 0s 5ms/step - loss: nan - accuracy: 0.2609\n",
            "Epoch 67/200\n",
            "5/5 [==============================] - 0s 3ms/step - loss: nan - accuracy: 0.2609\n",
            "Epoch 68/200\n",
            "5/5 [==============================] - 0s 4ms/step - loss: nan - accuracy: 0.2609\n",
            "Epoch 69/200\n",
            "5/5 [==============================] - 0s 4ms/step - loss: nan - accuracy: 0.2609\n",
            "Epoch 70/200\n",
            "5/5 [==============================] - 0s 3ms/step - loss: nan - accuracy: 0.2609\n",
            "Epoch 71/200\n",
            "5/5 [==============================] - 0s 4ms/step - loss: nan - accuracy: 0.2609\n",
            "Epoch 72/200\n",
            "5/5 [==============================] - 0s 3ms/step - loss: nan - accuracy: 0.2609\n",
            "Epoch 73/200\n",
            "5/5 [==============================] - 0s 3ms/step - loss: nan - accuracy: 0.2609\n",
            "Epoch 74/200\n",
            "5/5 [==============================] - 0s 4ms/step - loss: nan - accuracy: 0.2609\n",
            "Epoch 75/200\n",
            "5/5 [==============================] - 0s 4ms/step - loss: nan - accuracy: 0.2609\n",
            "Epoch 76/200\n",
            "5/5 [==============================] - 0s 4ms/step - loss: nan - accuracy: 0.2609\n",
            "Epoch 77/200\n",
            "5/5 [==============================] - 0s 4ms/step - loss: nan - accuracy: 0.2609\n",
            "Epoch 78/200\n",
            "5/5 [==============================] - 0s 4ms/step - loss: nan - accuracy: 0.2609\n",
            "Epoch 79/200\n",
            "5/5 [==============================] - 0s 3ms/step - loss: nan - accuracy: 0.2609\n",
            "Epoch 80/200\n",
            "5/5 [==============================] - 0s 3ms/step - loss: nan - accuracy: 0.2609\n",
            "Epoch 81/200\n",
            "5/5 [==============================] - 0s 3ms/step - loss: nan - accuracy: 0.2609\n",
            "Epoch 82/200\n",
            "5/5 [==============================] - 0s 4ms/step - loss: nan - accuracy: 0.2609\n",
            "Epoch 83/200\n",
            "5/5 [==============================] - 0s 4ms/step - loss: nan - accuracy: 0.2609\n",
            "Epoch 84/200\n",
            "5/5 [==============================] - 0s 3ms/step - loss: nan - accuracy: 0.2609\n",
            "Epoch 85/200\n",
            "5/5 [==============================] - 0s 4ms/step - loss: nan - accuracy: 0.2609\n",
            "Epoch 86/200\n",
            "5/5 [==============================] - 0s 3ms/step - loss: nan - accuracy: 0.2609\n",
            "Epoch 87/200\n",
            "5/5 [==============================] - 0s 3ms/step - loss: nan - accuracy: 0.2609\n",
            "Epoch 88/200\n",
            "5/5 [==============================] - 0s 3ms/step - loss: nan - accuracy: 0.2609\n",
            "Epoch 89/200\n",
            "5/5 [==============================] - 0s 3ms/step - loss: nan - accuracy: 0.2609\n",
            "Epoch 90/200\n",
            "5/5 [==============================] - 0s 3ms/step - loss: nan - accuracy: 0.2609\n",
            "Epoch 91/200\n",
            "5/5 [==============================] - 0s 4ms/step - loss: nan - accuracy: 0.2609\n",
            "Epoch 92/200\n",
            "5/5 [==============================] - 0s 5ms/step - loss: nan - accuracy: 0.2609\n",
            "Epoch 93/200\n",
            "5/5 [==============================] - 0s 4ms/step - loss: nan - accuracy: 0.2609\n",
            "Epoch 94/200\n",
            "5/5 [==============================] - 0s 3ms/step - loss: nan - accuracy: 0.2609\n",
            "Epoch 95/200\n",
            "5/5 [==============================] - 0s 4ms/step - loss: nan - accuracy: 0.2609\n",
            "Epoch 96/200\n",
            "5/5 [==============================] - 0s 3ms/step - loss: nan - accuracy: 0.2609\n",
            "Epoch 97/200\n",
            "5/5 [==============================] - 0s 4ms/step - loss: nan - accuracy: 0.2609\n",
            "Epoch 98/200\n",
            "5/5 [==============================] - 0s 3ms/step - loss: nan - accuracy: 0.2609\n",
            "Epoch 99/200\n",
            "5/5 [==============================] - 0s 4ms/step - loss: nan - accuracy: 0.2609\n",
            "Epoch 100/200\n",
            "5/5 [==============================] - 0s 3ms/step - loss: nan - accuracy: 0.2609\n",
            "Epoch 101/200\n",
            "5/5 [==============================] - 0s 3ms/step - loss: nan - accuracy: 0.2609\n",
            "Epoch 102/200\n",
            "5/5 [==============================] - 0s 3ms/step - loss: nan - accuracy: 0.2609\n",
            "Epoch 103/200\n",
            "5/5 [==============================] - 0s 3ms/step - loss: nan - accuracy: 0.2609\n",
            "Epoch 104/200\n",
            "5/5 [==============================] - 0s 3ms/step - loss: nan - accuracy: 0.2609\n",
            "Epoch 105/200\n",
            "5/5 [==============================] - 0s 4ms/step - loss: nan - accuracy: 0.2609\n",
            "Epoch 106/200\n",
            "5/5 [==============================] - 0s 3ms/step - loss: nan - accuracy: 0.2609\n",
            "Epoch 107/200\n",
            "5/5 [==============================] - 0s 3ms/step - loss: nan - accuracy: 0.2609\n",
            "Epoch 108/200\n",
            "5/5 [==============================] - 0s 3ms/step - loss: nan - accuracy: 0.2609\n",
            "Epoch 109/200\n",
            "5/5 [==============================] - 0s 3ms/step - loss: nan - accuracy: 0.2609\n",
            "Epoch 110/200\n",
            "5/5 [==============================] - 0s 3ms/step - loss: nan - accuracy: 0.2609\n",
            "Epoch 111/200\n",
            "5/5 [==============================] - 0s 3ms/step - loss: nan - accuracy: 0.2609\n",
            "Epoch 112/200\n",
            "5/5 [==============================] - 0s 3ms/step - loss: nan - accuracy: 0.2609\n",
            "Epoch 113/200\n",
            "5/5 [==============================] - 0s 4ms/step - loss: nan - accuracy: 0.2609\n",
            "Epoch 114/200\n",
            "5/5 [==============================] - 0s 5ms/step - loss: nan - accuracy: 0.2609\n",
            "Epoch 115/200\n",
            "5/5 [==============================] - 0s 3ms/step - loss: nan - accuracy: 0.2609\n",
            "Epoch 116/200\n",
            "5/5 [==============================] - 0s 3ms/step - loss: nan - accuracy: 0.2609\n",
            "Epoch 117/200\n",
            "5/5 [==============================] - 0s 4ms/step - loss: nan - accuracy: 0.2609\n",
            "Epoch 118/200\n",
            "5/5 [==============================] - 0s 3ms/step - loss: nan - accuracy: 0.2609\n",
            "Epoch 119/200\n",
            "5/5 [==============================] - 0s 4ms/step - loss: nan - accuracy: 0.2609\n",
            "Epoch 120/200\n",
            "5/5 [==============================] - 0s 4ms/step - loss: nan - accuracy: 0.2609\n",
            "Epoch 121/200\n",
            "5/5 [==============================] - 0s 5ms/step - loss: nan - accuracy: 0.2609\n",
            "Epoch 122/200\n",
            "5/5 [==============================] - 0s 4ms/step - loss: nan - accuracy: 0.2609\n",
            "Epoch 123/200\n",
            "5/5 [==============================] - 0s 4ms/step - loss: nan - accuracy: 0.2609\n",
            "Epoch 124/200\n",
            "5/5 [==============================] - 0s 4ms/step - loss: nan - accuracy: 0.2609\n",
            "Epoch 125/200\n",
            "5/5 [==============================] - 0s 3ms/step - loss: nan - accuracy: 0.2609\n",
            "Epoch 126/200\n",
            "5/5 [==============================] - 0s 4ms/step - loss: nan - accuracy: 0.2609\n",
            "Epoch 127/200\n",
            "5/5 [==============================] - 0s 4ms/step - loss: nan - accuracy: 0.2609\n",
            "Epoch 128/200\n",
            "5/5 [==============================] - 0s 4ms/step - loss: nan - accuracy: 0.2609\n",
            "Epoch 129/200\n",
            "5/5 [==============================] - 0s 4ms/step - loss: nan - accuracy: 0.2609\n",
            "Epoch 130/200\n",
            "5/5 [==============================] - 0s 3ms/step - loss: nan - accuracy: 0.2609\n",
            "Epoch 131/200\n",
            "5/5 [==============================] - 0s 4ms/step - loss: nan - accuracy: 0.2609\n",
            "Epoch 132/200\n",
            "5/5 [==============================] - 0s 3ms/step - loss: nan - accuracy: 0.2609\n",
            "Epoch 133/200\n",
            "5/5 [==============================] - 0s 4ms/step - loss: nan - accuracy: 0.2609\n",
            "Epoch 134/200\n",
            "5/5 [==============================] - 0s 4ms/step - loss: nan - accuracy: 0.2609\n",
            "Epoch 135/200\n",
            "5/5 [==============================] - 0s 3ms/step - loss: nan - accuracy: 0.2609\n",
            "Epoch 136/200\n",
            "5/5 [==============================] - 0s 3ms/step - loss: nan - accuracy: 0.2609\n",
            "Epoch 137/200\n",
            "5/5 [==============================] - 0s 3ms/step - loss: nan - accuracy: 0.2609\n",
            "Epoch 138/200\n",
            "5/5 [==============================] - 0s 4ms/step - loss: nan - accuracy: 0.2609\n",
            "Epoch 139/200\n",
            "5/5 [==============================] - 0s 5ms/step - loss: nan - accuracy: 0.2609\n",
            "Epoch 140/200\n",
            "5/5 [==============================] - 0s 4ms/step - loss: nan - accuracy: 0.2609\n",
            "Epoch 141/200\n",
            "5/5 [==============================] - 0s 4ms/step - loss: nan - accuracy: 0.2609\n",
            "Epoch 142/200\n",
            "5/5 [==============================] - 0s 4ms/step - loss: nan - accuracy: 0.2609\n",
            "Epoch 143/200\n",
            "5/5 [==============================] - 0s 4ms/step - loss: nan - accuracy: 0.2609\n",
            "Epoch 144/200\n",
            "5/5 [==============================] - 0s 4ms/step - loss: nan - accuracy: 0.2609\n",
            "Epoch 145/200\n",
            "5/5 [==============================] - 0s 4ms/step - loss: nan - accuracy: 0.2609\n",
            "Epoch 146/200\n",
            "5/5 [==============================] - 0s 3ms/step - loss: nan - accuracy: 0.2609\n",
            "Epoch 147/200\n",
            "5/5 [==============================] - 0s 3ms/step - loss: nan - accuracy: 0.2609\n",
            "Epoch 148/200\n",
            "5/5 [==============================] - 0s 4ms/step - loss: nan - accuracy: 0.2609\n",
            "Epoch 149/200\n",
            "5/5 [==============================] - 0s 4ms/step - loss: nan - accuracy: 0.2609\n",
            "Epoch 150/200\n",
            "5/5 [==============================] - 0s 3ms/step - loss: nan - accuracy: 0.2609\n",
            "Epoch 151/200\n",
            "5/5 [==============================] - 0s 3ms/step - loss: nan - accuracy: 0.2609\n",
            "Epoch 152/200\n",
            "5/5 [==============================] - 0s 3ms/step - loss: nan - accuracy: 0.2609\n",
            "Epoch 153/200\n",
            "5/5 [==============================] - 0s 4ms/step - loss: nan - accuracy: 0.2609\n",
            "Epoch 154/200\n",
            "5/5 [==============================] - 0s 4ms/step - loss: nan - accuracy: 0.2609\n",
            "Epoch 155/200\n",
            "5/5 [==============================] - 0s 3ms/step - loss: nan - accuracy: 0.2609\n",
            "Epoch 156/200\n",
            "5/5 [==============================] - 0s 4ms/step - loss: nan - accuracy: 0.2609\n",
            "Epoch 157/200\n",
            "5/5 [==============================] - 0s 4ms/step - loss: nan - accuracy: 0.2609\n",
            "Epoch 158/200\n",
            "5/5 [==============================] - 0s 3ms/step - loss: nan - accuracy: 0.2609\n",
            "Epoch 159/200\n",
            "5/5 [==============================] - 0s 4ms/step - loss: nan - accuracy: 0.2609\n",
            "Epoch 160/200\n",
            "5/5 [==============================] - 0s 3ms/step - loss: nan - accuracy: 0.2609\n",
            "Epoch 161/200\n",
            "5/5 [==============================] - 0s 4ms/step - loss: nan - accuracy: 0.2609\n",
            "Epoch 162/200\n",
            "5/5 [==============================] - 0s 4ms/step - loss: nan - accuracy: 0.2609\n",
            "Epoch 163/200\n",
            "5/5 [==============================] - 0s 4ms/step - loss: nan - accuracy: 0.2609\n",
            "Epoch 164/200\n",
            "5/5 [==============================] - 0s 4ms/step - loss: nan - accuracy: 0.2609\n",
            "Epoch 165/200\n",
            "5/5 [==============================] - 0s 3ms/step - loss: nan - accuracy: 0.2609\n",
            "Epoch 166/200\n",
            "5/5 [==============================] - 0s 4ms/step - loss: nan - accuracy: 0.2609\n",
            "Epoch 167/200\n",
            "5/5 [==============================] - 0s 4ms/step - loss: nan - accuracy: 0.2609\n",
            "Epoch 168/200\n",
            "5/5 [==============================] - 0s 3ms/step - loss: nan - accuracy: 0.2609\n",
            "Epoch 169/200\n",
            "5/5 [==============================] - 0s 4ms/step - loss: nan - accuracy: 0.2609\n",
            "Epoch 170/200\n",
            "5/5 [==============================] - 0s 4ms/step - loss: nan - accuracy: 0.2609\n",
            "Epoch 171/200\n",
            "5/5 [==============================] - 0s 4ms/step - loss: nan - accuracy: 0.2609\n",
            "Epoch 172/200\n",
            "5/5 [==============================] - 0s 3ms/step - loss: nan - accuracy: 0.2609\n",
            "Epoch 173/200\n",
            "5/5 [==============================] - 0s 5ms/step - loss: nan - accuracy: 0.2609\n",
            "Epoch 174/200\n",
            "5/5 [==============================] - 0s 4ms/step - loss: nan - accuracy: 0.2609\n",
            "Epoch 175/200\n",
            "5/5 [==============================] - 0s 5ms/step - loss: nan - accuracy: 0.2609\n",
            "Epoch 176/200\n",
            "5/5 [==============================] - 0s 4ms/step - loss: nan - accuracy: 0.2609\n",
            "Epoch 177/200\n",
            "5/5 [==============================] - 0s 4ms/step - loss: nan - accuracy: 0.2609\n",
            "Epoch 178/200\n",
            "5/5 [==============================] - 0s 4ms/step - loss: nan - accuracy: 0.2609\n",
            "Epoch 179/200\n",
            "5/5 [==============================] - 0s 3ms/step - loss: nan - accuracy: 0.2609\n",
            "Epoch 180/200\n",
            "5/5 [==============================] - 0s 3ms/step - loss: nan - accuracy: 0.2609\n",
            "Epoch 181/200\n",
            "5/5 [==============================] - 0s 3ms/step - loss: nan - accuracy: 0.2609\n",
            "Epoch 182/200\n",
            "5/5 [==============================] - 0s 5ms/step - loss: nan - accuracy: 0.2609\n",
            "Epoch 183/200\n",
            "5/5 [==============================] - 0s 3ms/step - loss: nan - accuracy: 0.2609\n",
            "Epoch 184/200\n",
            "5/5 [==============================] - 0s 3ms/step - loss: nan - accuracy: 0.2609\n",
            "Epoch 185/200\n",
            "5/5 [==============================] - 0s 4ms/step - loss: nan - accuracy: 0.2609\n",
            "Epoch 186/200\n",
            "5/5 [==============================] - 0s 4ms/step - loss: nan - accuracy: 0.2609\n",
            "Epoch 187/200\n",
            "5/5 [==============================] - 0s 5ms/step - loss: nan - accuracy: 0.2609\n",
            "Epoch 188/200\n",
            "5/5 [==============================] - 0s 3ms/step - loss: nan - accuracy: 0.2609\n",
            "Epoch 189/200\n",
            "5/5 [==============================] - 0s 5ms/step - loss: nan - accuracy: 0.2609\n",
            "Epoch 190/200\n",
            "5/5 [==============================] - 0s 4ms/step - loss: nan - accuracy: 0.2609\n",
            "Epoch 191/200\n",
            "5/5 [==============================] - 0s 4ms/step - loss: nan - accuracy: 0.2609\n",
            "Epoch 192/200\n",
            "5/5 [==============================] - 0s 5ms/step - loss: nan - accuracy: 0.2609\n",
            "Epoch 193/200\n",
            "5/5 [==============================] - 0s 4ms/step - loss: nan - accuracy: 0.2609\n",
            "Epoch 194/200\n",
            "5/5 [==============================] - 0s 4ms/step - loss: nan - accuracy: 0.2609\n",
            "Epoch 195/200\n",
            "5/5 [==============================] - 0s 4ms/step - loss: nan - accuracy: 0.2609\n",
            "Epoch 196/200\n",
            "5/5 [==============================] - 0s 4ms/step - loss: nan - accuracy: 0.2609\n",
            "Epoch 197/200\n",
            "5/5 [==============================] - 0s 3ms/step - loss: nan - accuracy: 0.2609\n",
            "Epoch 198/200\n",
            "5/5 [==============================] - 0s 5ms/step - loss: nan - accuracy: 0.2609\n",
            "Epoch 199/200\n",
            "5/5 [==============================] - 0s 4ms/step - loss: nan - accuracy: 0.2609\n",
            "Epoch 200/200\n",
            "5/5 [==============================] - 0s 4ms/step - loss: nan - accuracy: 0.2609\n",
            "chatbot is ready\n"
          ]
        }
      ]
    },
    {
      "cell_type": "markdown",
      "source": [
        "**Interacting with the ChatBot**"
      ],
      "metadata": {
        "id": "KHn0pTsEjqJe"
      }
    },
    {
      "cell_type": "code",
      "source": [
        "from tensorflow.keras.models import load_model"
      ],
      "metadata": {
        "id": "PSrdpZWkjo_y"
      },
      "execution_count": null,
      "outputs": []
    },
    {
      "cell_type": "code",
      "source": [
        "words = pickle.load(open('words.pkl','rb'))\n",
        "classes = pickle.load(open('classes.pkl','rb'))\n",
        "model = load_model('chatbot_model.h5')"
      ],
      "metadata": {
        "id": "T-KXRL-jjpC5"
      },
      "execution_count": null,
      "outputs": []
    },
    {
      "cell_type": "markdown",
      "source": [
        "**Converting the numbers into strings**"
      ],
      "metadata": {
        "id": "yZHVnwed5kmX"
      }
    },
    {
      "cell_type": "code",
      "source": [
        "def clean_up_sentance(sentence):\n",
        "  sentence_words  =nltk.word_tokenize(sentence)\n",
        "  # break the numbers back into string for\n",
        "  sentence_words = [lementizer.lemmatize(word) for word in sentence_words]\n",
        "  return sentence_words\n",
        "\n"
      ],
      "metadata": {
        "id": "zynnjzI6jpEl"
      },
      "execution_count": null,
      "outputs": []
    },
    {
      "cell_type": "code",
      "source": [
        "def bag_of_words(sentence):\n",
        "  sentence_words = clean_up_sentance(sentence)\n",
        "  bag = [0] * len(words)\n",
        "  # time to iterate through each one\n",
        "  for w in sentence_words:\n",
        "    for i, word in enumerate(words):\n",
        "      if word == w:\n",
        "        bag[i] = 1\n",
        "  return np.array(bag)\n",
        "print(bag)"
      ],
      "metadata": {
        "colab": {
          "base_uri": "https://localhost:8080/"
        },
        "id": "rsNWKpHekR7M",
        "outputId": "3883b77a-d19f-4fab-d677-0fed91870d09"
      },
      "execution_count": null,
      "outputs": [
        {
          "output_type": "stream",
          "name": "stdout",
          "text": [
            "[0, 0, 0, 0, 0, 0, 0, 0, 1, 0, 0, 0, 0, 0, 0, 0, 0, 0, 0, 0, 0, 0, 0, 0, 0, 0, 0, 0, 0, 0, 0, 1, 0, 0, 0, 0, 0, 0, 0, 0, 0, 0, 0, 0, 0, 0, 0, 0, 0, 0, 0, 0, 0, 0, 0, 0, 0, 0, 1, 0, 0, 0, 0, 0, 0, 0, 0, 0, 0, 0, 0, 0, 0, 0, 0, 0, 0, 0, 0, 0, 0, 0, 0, 1, 0, 0, 0, 0, 0, 0, 0, 0, 0, 0, 0, 0, 0, 1, 0, 0, 1, 1, 0, 1, 1, 1, 1, 1]\n"
          ]
        }
      ]
    },
    {
      "cell_type": "markdown",
      "source": [
        "**Making Prediction for the bot**"
      ],
      "metadata": {
        "id": "z4Wqi-r7-LJ_"
      }
    },
    {
      "cell_type": "code",
      "source": [
        "def predict_class(sentence):\n",
        "  bow = bag_of_words(sentence)\n",
        "  rez = model.predict(np.array([bow]))[0]\n",
        "  # looking for threshold\n",
        "  Error_threshold = 0.25\n",
        "  result = [[i, r] for i, r in enumerate(rez) if r > Error_threshold]\n",
        "  result.sort(key = lambda x:x[1], reverse = True) # have the highest proabillty first\n",
        "  return_list = []\n",
        "  for r in result:\n",
        "    return_list.append({'intent': classes[r[0]], 'probability':str(r[1])})\n",
        "    return return_list\n",
        "\n"
      ],
      "metadata": {
        "id": "ElgXvVqjjpGo"
      },
      "execution_count": null,
      "outputs": []
    },
    {
      "cell_type": "code",
      "source": [
        "def classify(sentence):\n",
        "    # generate probabilities from the model\n",
        "    results = model.predict([bag(sentence, words)])[0]\n",
        "    # filter out predictions below a threshold\n",
        "    results = [[i,r] for i,r in enumerate(results) if r>Error_threshold]\n",
        "    # sort by strength of probability\n",
        "    results.sort(key=lambda x: x[1], reverse=True)\n",
        "    return_list = []\n",
        "    for r in results:\n",
        "        return_list.append((classes[r[0]], r[1]))\n",
        "    # return tuple of intent and probability\n",
        "    return return_list"
      ],
      "metadata": {
        "id": "sJ9q0AKnl29H"
      },
      "execution_count": null,
      "outputs": []
    },
    {
      "cell_type": "code",
      "source": [
        "def get_response(intents_list, intents_json):\n",
        "  tag = intents_list[0]['intent']\n",
        "  list_of_intents = intents_json['intents']\n",
        "  for i in list_of_intents:\n",
        "    if i['tag'] == tag:\n",
        "      result = random.choice[i['responses']]\n",
        "      break\n",
        "    return result\n"
      ],
      "metadata": {
        "id": "K2eOIwfWjpI-"
      },
      "execution_count": null,
      "outputs": []
    },
    {
      "cell_type": "code",
      "source": [
        "\n",
        "print(\" our bot is running: congrats\")"
      ],
      "metadata": {
        "id": "0SrPzP6sjpMG",
        "colab": {
          "base_uri": "https://localhost:8080/"
        },
        "outputId": "0d39c241-f70b-4615-b670-c0a8664b5e0f"
      },
      "execution_count": null,
      "outputs": [
        {
          "output_type": "stream",
          "name": "stdout",
          "text": [
            " our bot is running: congrats\n"
          ]
        }
      ]
    },
    {
      "cell_type": "code",
      "source": [
        "print('chatbot_model.h5')"
      ],
      "metadata": {
        "colab": {
          "base_uri": "https://localhost:8080/"
        },
        "id": "tVWN_gbDMztr",
        "outputId": "35af12e2-323c-42e6-a900-3b73ced77baa"
      },
      "execution_count": null,
      "outputs": [
        {
          "output_type": "stream",
          "name": "stdout",
          "text": [
            "chatbot_model.h5\n"
          ]
        }
      ]
    },
    {
      "cell_type": "code",
      "source": [],
      "metadata": {
        "id": "ZAw80PrAkogo"
      },
      "execution_count": null,
      "outputs": []
    }
  ]
}